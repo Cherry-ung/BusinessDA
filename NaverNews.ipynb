{
 "cells": [
  {
   "cell_type": "markdown",
   "id": "ff27b2ad",
   "metadata": {},
   "source": [
    "# Naver News Menu List Scraping\n",
    "https://news.naver.com"
   ]
  },
  {
   "cell_type": "code",
   "execution_count": 29,
   "id": "5f48868c",
   "metadata": {},
   "outputs": [
    {
     "name": "stdout",
     "output_type": "stream",
     "text": [
      "['언론사별', '정치', '경제', '사회', '생활/문화', 'IT/과학', '세계', '랭킹', '신문보기', '오피니언', 'TV', '팩트체크']\n"
     ]
    }
   ],
   "source": [
    "from bs4 import BeautifulSoup\n",
    "import urllib.request\n",
    "import pandas as pd\n",
    "\n",
    "URL = \"https://news.naver.com\"\n",
    "\n",
    "html = urllib.request.urlopen(URL)\n",
    "soup = BeautifulSoup(html, 'html.parser')\n",
    "# print(soup)\n",
    "menu = soup.select(\"div.Nlnb > div.Nlnb_inner > div.Nlnb_both > div.Nlnb_left > div.Nlnb_menu > div.Nlnb_menu_inner > ul.Nlnb_menu_list > li.Nlist_item\")\n",
    "\n",
    "menuList=[]\n",
    "\n",
    "for m in menu:\n",
    "    menuList.append(m.string)\n",
    "print(menuList)"
   ]
  },
  {
   "cell_type": "code",
   "execution_count": 26,
   "id": "bfda2e43",
   "metadata": {},
   "outputs": [
    {
     "name": "stdout",
     "output_type": "stream",
     "text": [
      "<li class=\"Nlist_item is_active\"><a aria-selected=\"true\" class=\"Nitem_link\" href=\"https://news.naver.com/?viewType=pc\" onclick=\"nclk(event,'lnb.pcmedia','','');\" role=\"menuitem\"><span class=\"Nitem_link_menu\">언론사별</span></a></li>\n"
     ]
    }
   ],
   "source": []
  },
  {
   "cell_type": "code",
   "execution_count": null,
   "id": "779b6680",
   "metadata": {},
   "outputs": [],
   "source": []
  }
 ],
 "metadata": {
  "kernelspec": {
   "display_name": "Python 3 (ipykernel)",
   "language": "python",
   "name": "python3"
  },
  "language_info": {
   "codemirror_mode": {
    "name": "ipython",
    "version": 3
   },
   "file_extension": ".py",
   "mimetype": "text/x-python",
   "name": "python",
   "nbconvert_exporter": "python",
   "pygments_lexer": "ipython3",
   "version": "3.9.13"
  }
 },
 "nbformat": 4,
 "nbformat_minor": 5
}
